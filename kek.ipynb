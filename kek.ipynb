{
 "cells": [
  {
   "cell_type": "code",
   "execution_count": 73,
   "metadata": {},
   "outputs": [],
   "source": [
    "import pandas as pd\n",
    "import numpy as np\n",
    "import ast"
   ]
  },
  {
   "cell_type": "code",
   "execution_count": 22,
   "metadata": {},
   "outputs": [],
   "source": [
    "train = pd.read_csv('data/train.csv')\n",
    "train = train.set_index('id')"
   ]
  },
  {
   "cell_type": "code",
   "execution_count": 85,
   "metadata": {},
   "outputs": [
    {
     "data": {
      "text/plain": [
       "Index(['belongs_to_collection', 'budget', 'genres', 'homepage', 'imdb_id',\n",
       "       'original_language', 'original_title', 'overview', 'popularity',\n",
       "       'poster_path', 'production_companies', 'production_countries',\n",
       "       'release_date', 'runtime', 'spoken_languages', 'status', 'tagline',\n",
       "       'title', 'Keywords', 'cast', 'crew', 'revenue'],\n",
       "      dtype='object')"
      ]
     },
     "execution_count": 85,
     "metadata": {},
     "output_type": "execute_result"
    }
   ],
   "source": [
    "train.columns"
   ]
  },
  {
   "cell_type": "markdown",
   "metadata": {},
   "source": [
    "belongs_to_collection  - json... collections as ids\n",
    "budget  - int\n",
    "genres  - json...\n",
    "homepage  - url can be nan, possible 1 hot\n",
    "imdb_id  - \n",
    "original_language  - collect all and onehot\n",
    "original_title  - \n",
    "overview  - \n",
    "popularity  - \n",
    "poster_path  - \n",
    "production_companies  - \n",
    "production_countries  - \n",
    "release_date  - \n",
    "runtime  - \n",
    "spoken_languages  - \n",
    "status  - \n",
    "tagline  - \n",
    "title  - \n",
    "Keywords  - \n",
    "cast  - \n",
    "crew  - \n",
    "revenue  - "
   ]
  },
  {
   "cell_type": "code",
   "execution_count": 94,
   "metadata": {},
   "outputs": [
    {
     "data": {
      "text/plain": [
       "'Under the direction of a ruthless instructor, a talented young drummer begins to pursue perfection at any cost, even his humanity.'"
      ]
     },
     "execution_count": 94,
     "metadata": {},
     "output_type": "execute_result"
    }
   ],
   "source": [
    "train.iloc[2, 7]#[1:-1]"
   ]
  },
  {
   "cell_type": "code",
   "execution_count": 83,
   "metadata": {},
   "outputs": [
    {
     "data": {
      "text/plain": [
       "[11, 467, 1635, 1958]"
      ]
     },
     "execution_count": 83,
     "metadata": {},
     "output_type": "execute_result"
    }
   ],
   "source": [
    "ids = []\n",
    "for tuplee in train.itertuples():\n",
    "    interest = tuplee[1]\n",
    "    if type(interest) != str:\n",
    "        continue\n",
    "#     edited = interest.replace(\"'\", '{-\"-}').replace('\"', \"'\").replace(\"{-'-}\", '\"').replace('None', '\"0\"')\n",
    "#     print(interest)\n",
    "    r = ast.literal_eval(interest)\n",
    "    for i in r:\n",
    "#         print(i)\n",
    "        if i['id'] == 1575:\n",
    "            ids.append(tuplee[0])\n",
    "\n",
    "ids"
   ]
  },
  {
   "cell_type": "code",
   "execution_count": 82,
   "metadata": {},
   "outputs": [
    {
     "data": {
      "text/plain": [
       "[11, 467, 1635, 1958]"
      ]
     },
     "execution_count": 82,
     "metadata": {},
     "output_type": "execute_result"
    }
   ],
   "source": []
  }
 ],
 "metadata": {
  "kernelspec": {
   "display_name": "Python 3",
   "language": "python",
   "name": "python3"
  },
  "language_info": {
   "codemirror_mode": {
    "name": "ipython",
    "version": 3
   },
   "file_extension": ".py",
   "mimetype": "text/x-python",
   "name": "python",
   "nbconvert_exporter": "python",
   "pygments_lexer": "ipython3",
   "version": "3.6.8"
  }
 },
 "nbformat": 4,
 "nbformat_minor": 2
}
